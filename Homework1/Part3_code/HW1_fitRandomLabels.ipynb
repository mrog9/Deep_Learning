{
  "cells": [
    {
      "cell_type": "code",
      "execution_count": null,
      "metadata": {
        "id": "Lg9iCCE_fDiR"
      },
      "outputs": [],
      "source": [
        "import torch\n",
        "import torch.nn as nn\n",
        "import torch.nn.functional as F\n",
        "import torch.optim as optim\n",
        "from torch.utils.data import DataLoader\n",
        "from torchvision import datasets, transforms\n",
        "from torchvision.utils import make_grid\n",
        "\n",
        "import numpy as np\n",
        "import pandas as pd\n",
        "from sklearn.metrics import precision_score, recall_score, accuracy_score, f1_score\n",
        "import matplotlib.pyplot as plt"
      ]
    },
    {
      "cell_type": "code",
      "execution_count": null,
      "metadata": {
        "id": "PKKB_76dhRt1"
      },
      "outputs": [],
      "source": [
        "transform = transforms.ToTensor()"
      ]
    },
    {
      "cell_type": "code",
      "execution_count": null,
      "metadata": {
        "id": "krbl-PpzhZuM"
      },
      "outputs": [],
      "source": [
        "train_data = datasets.MNIST(root='data', train=True, download=True, transform=transform)\n",
        "test_data = datasets.MNIST(root='data', train=False, download=True, transform=transform)"
      ]
    },
    {
      "cell_type": "code",
      "execution_count": null,
      "metadata": {
        "colab": {
          "base_uri": "https://localhost:8080/"
        },
        "id": "HTfAgPU7hjqU",
        "outputId": "19b405cc-2fba-44d7-8161-3cd63a95b9d6"
      },
      "outputs": [
        {
          "data": {
            "text/plain": [
              "(torch.Size([60000, 28, 28]),\n",
              " torch.Size([10000, 28, 28]),\n",
              " torch.Size([60000]),\n",
              " torch.Size([10000]))"
            ]
          },
          "execution_count": 39,
          "metadata": {},
          "output_type": "execute_result"
        }
      ],
      "source": [
        "train_images = train_data.data.float() / 255.0\n",
        "test_images = test_data.data.float() / 255.0\n",
        "\n",
        "train_labels = train_data.targets\n",
        "test_labels = test_data.targets\n",
        "\n",
        "train_images.shape, test_images.shape, train_labels.shape, test_labels.shape"
      ]
    },
    {
      "cell_type": "code",
      "execution_count": null,
      "metadata": {
        "id": "p0X-Go-ni0cf"
      },
      "outputs": [],
      "source": [
        "train_labels = train_labels[torch.randperm(len(train_labels))]"
      ]
    },
    {
      "cell_type": "code",
      "execution_count": null,
      "metadata": {
        "id": "RgfahEitjMdR"
      },
      "outputs": [],
      "source": [
        "class Model(nn.Module):\n",
        "\n",
        "  def __init__(self, hid_nodes=256):\n",
        "    super().__init__()\n",
        "    self.fc1 = nn.Linear(784, hid_nodes)\n",
        "    self.fc2 = nn.Linear(hid_nodes, hid_nodes)\n",
        "    self.output = nn.Linear(hid_nodes, 10)\n",
        "\n",
        "  def forward(self, x):\n",
        "    x = x.view(-1, 28*28)\n",
        "    x = F.tanh(self.fc1(x))\n",
        "    x = F.tanh(self.fc2(x))\n",
        "    x = self.output(x)\n",
        "    return F.log_softmax(x, dim=1)"
      ]
    },
    {
      "cell_type": "code",
      "execution_count": null,
      "metadata": {
        "id": "JkcTfJdmlLKP"
      },
      "outputs": [],
      "source": [
        "model = Model()\n",
        "crit = nn.CrossEntropyLoss()\n",
        "optimizer = optim.Adam(model.parameters(), lr=0.001)\n",
        "\n",
        "epochs = 2000\n",
        "\n",
        "train_losses = []\n",
        "test_losses = []\n",
        "epoch_list = []\n",
        "\n",
        "batch_ind = 0\n",
        "batch_size = 1000"
      ]
    },
    {
      "cell_type": "code",
      "execution_count": null,
      "metadata": {
        "colab": {
          "background_save": true
        },
        "id": "4U59hKLcnur1"
      },
      "outputs": [],
      "source": [
        "for epoch in range(epochs):\n",
        "\n",
        "  epoch_list.append(epoch)\n",
        "\n",
        "  train_loss = 0.0\n",
        "\n",
        "  while (batch_ind + batch_size) <= len(train_images.view(-1, 784)):\n",
        "\n",
        "    batch_images = train_images[batch_ind:batch_ind + batch_size, :, :]\n",
        "\n",
        "    batch_labels = train_labels[batch_ind:batch_ind + batch_size]\n",
        "\n",
        "    batch_ind += batch_size\n",
        "\n",
        "    model.zero_grad()\n",
        "\n",
        "    output = model(batch_images)\n",
        "\n",
        "    loss = crit(output, batch_labels)\n",
        "\n",
        "    loss.backward()\n",
        "\n",
        "    train_loss += loss.item()\n",
        "\n",
        "    optimizer.step()\n",
        "\n",
        "  test_outputs = model(test_images)\n",
        "\n",
        "  test_loss = crit(test_outputs, test_labels)\n",
        "\n",
        "  test_losses.append(test_loss.item())\n",
        "  train_losses.append(train_loss)\n",
        "\n",
        "  batch_ind = 0"
      ]
    },
    {
      "cell_type": "code",
      "execution_count": null,
      "metadata": {
        "colab": {
          "background_save": true
        },
        "id": "SV1sjsLx9eNt"
      },
      "outputs": [],
      "source": [
        "# train_lost_list = []\n",
        "# cnt = 0\n",
        "# loss_cum = 0\n",
        "# for loss_ind in range(len(train_losses)):\n",
        "\n",
        "#   loss_cum+=train_losses[loss_ind]\n",
        "\n",
        "#   if cnt == 58:\n",
        "#     train_lost_list.append(loss_cum)\n",
        "#     loss_cum = 0\n",
        "#     cnt = 0\n",
        "#   else:\n",
        "#     cnt+=1\n",
        "\n",
        "# print(len(train_lost_list))"
      ]
    },
    {
      "cell_type": "code",
      "execution_count": null,
      "metadata": {
        "colab": {
          "background_save": true
        },
        "id": "hgCfm_VVqtLb",
        "outputId": "a4749ea9-e172-4e6d-a9ff-e15ef7f75ad7"
      },
      "outputs": [
        {
          "data": {
            "image/png": "[encoded data removed]",
            "text/plain": [
              "<Figure size 640x480 with 1 Axes>"
            ]
          },
          "metadata": {},
          "output_type": "display_data"
        }
      ],
      "source": [
        "plt.plot(epoch_list, train_losses, label='training loss')\n",
        "plt.plot(epoch_list, test_losses, label='testing loss')\n",
        "plt.xlabel('Epoch')\n",
        "plt.ylabel('Loss')\n",
        "plt.title('Train and Testing Loss per epoch')\n",
        "plt.legend()\n",
        "plt.show()"
      ]
    }
  ],
  "metadata": {
    "accelerator": "GPU",
    "colab": {
      "gpuType": "T4",
      "provenance": []
    },
    "kernelspec": {
      "display_name": "Python 3",
      "name": "python3"
    },
    "language_info": {
      "name": "python"
    }
  },
  "nbformat": 4,
  "nbformat_minor": 0
}