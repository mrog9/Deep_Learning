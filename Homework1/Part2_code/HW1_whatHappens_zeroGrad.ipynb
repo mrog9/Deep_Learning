{
  "nbformat": 4,
  "nbformat_minor": 0,
  "metadata": {
    "colab": {
      "provenance": []
    },
    "kernelspec": {
      "name": "python3",
      "display_name": "Python 3"
    },
    "language_info": {
      "name": "python"
    }
  },
  "cells": [
    {
      "cell_type": "code",
      "execution_count": 172,
      "metadata": {
        "id": "E03z9fvx1TL8"
      },
      "outputs": [],
      "source": [
        "import torch\n",
        "import torch.nn as nn\n",
        "import torch.nn.functional as F\n",
        "import torch.autograd.functional as func\n",
        "import torch.optim as optim\n",
        "import numpy as np\n",
        "import matplotlib.pyplot as plt\n",
        "import pandas as pd\n",
        "import math"
      ]
    },
    {
      "cell_type": "code",
      "source": [
        "class Model(nn.Module):\n",
        "    def __init__(self, in_features = 1, h1 = 10, out_features = 1):\n",
        "        super().__init__()\n",
        "\n",
        "        self.fc1 = nn.Linear(in_features, h1)\n",
        "        # self.fc2 = nn.Linear(h1, h2)\n",
        "        self.out = nn.Linear(h1, out_features)\n",
        "\n",
        "    def forward(self, x):\n",
        "        x = F.tanh(self.fc1(x))\n",
        "        # x = F.sigmoid(self.fc2(x))\n",
        "        x = self.out(x)\n",
        "        return x"
      ],
      "metadata": {
        "id": "8HrmR4Fb1YzV"
      },
      "execution_count": 173,
      "outputs": []
    },
    {
      "cell_type": "code",
      "source": [
        "class CustomLoss(nn.Module):\n",
        "    def __init__(self):\n",
        "      super().__init__()\n",
        "\n",
        "    def forward(self, grad_tens):\n",
        "\n",
        "      grad_norm = torch.tensor(0.0)\n",
        "      grad_norm.requires_grad = True\n",
        "\n",
        "      grad_norm = (torch.sum(grad_tens**2))**0.5\n",
        "\n",
        "      # grad_norm_tens = grad_norm.clone().detach().requires_grad_(True)\n",
        "\n",
        "      return grad_norm\n"
      ],
      "metadata": {
        "id": "_J7YOAtW1Y1z"
      },
      "execution_count": 174,
      "outputs": []
    },
    {
      "cell_type": "code",
      "source": [
        "def calcGradients(model, mse_loss):\n",
        "\n",
        "  row = []\n",
        "\n",
        "  param_list = [model.fc1.weight, model.fc1.bias, model.out.weight, model.out.bias]\n",
        "\n",
        "  grads = torch.autograd.grad(mse_loss, param_list, create_graph=True)\n",
        "\n",
        "  row.append(grads[0].view(-1))\n",
        "  row.append(grads[2].view(-1))\n",
        "\n",
        "  # for name, param in model.named_parameters():\n",
        "\n",
        "  #   print(param.grad)\n",
        "\n",
        "  #   if (name == \"fc1.weight\" or name == \"out.weight\"):\n",
        "\n",
        "  #     for g in param.grad.view(-1):\n",
        "\n",
        "  #       row.append(g.view(-1))\n",
        "\n",
        "  row_tens = torch.cat(row)\n",
        "\n",
        "  return row_tens"
      ],
      "metadata": {
        "id": "HXHSbTyC1Y4j"
      },
      "execution_count": 175,
      "outputs": []
    },
    {
      "cell_type": "code",
      "source": [
        "def f(X):\n",
        "\n",
        "  y = []\n",
        "\n",
        "  for x in X:\n",
        "\n",
        "    y.append(math.sin(5*math.pi*x)/(5*math.pi*x))\n",
        "\n",
        "  return y"
      ],
      "metadata": {
        "id": "fVC7fVuM1Y8L"
      },
      "execution_count": 176,
      "outputs": []
    },
    {
      "cell_type": "code",
      "source": [
        "def hess_func(grad_tens):\n",
        "\n",
        "  grad_sum = torch.sum(grad_tens**2)\n",
        "\n",
        "  # grad_norm = (torch.sum(grad_tens)**2)**0.5\n",
        "\n",
        "  row_list = []\n",
        "\n",
        "  for g_i in grad_tens:\n",
        "\n",
        "    row = []\n",
        "\n",
        "    for g_j in grad_tens:\n",
        "\n",
        "      hess_val = -g_i*g_j/((grad_sum)**(3/2))\n",
        "\n",
        "      row.append(hess_val)\n",
        "\n",
        "    row_tens = torch.tensor(row)\n",
        "\n",
        "    row_list.append(row_tens)\n",
        "\n",
        "  hess_tens = torch.stack(row_list)\n",
        "\n",
        "  return hess_tens"
      ],
      "metadata": {
        "id": "dqaSU0E9ywhK"
      },
      "execution_count": 177,
      "outputs": []
    },
    {
      "cell_type": "code",
      "source": [
        "def minRatio(grad_tens):\n",
        "\n",
        "  grad_tens_clone = grad_tens.clone().detach()\n",
        "\n",
        "  hessian_tensor = hess_func(grad_tens_clone)\n",
        "\n",
        "  eigenvalues, _ = torch.linalg.eig(hessian_tensor)\n",
        "\n",
        "  real_eigs = eigenvalues.real\n",
        "\n",
        "  pos_eigs = real_eigs[real_eigs > 0]\n",
        "\n",
        "  min_ratio = (pos_eigs.size(0))/ (real_eigs.size(0))\n",
        "\n",
        "  return min_ratio"
      ],
      "metadata": {
        "id": "Prm1BvRY4HKu"
      },
      "execution_count": 178,
      "outputs": []
    },
    {
      "cell_type": "code",
      "source": [
        "X = np.linspace(math.pi/1000, math.pi/2, 400)\n",
        "y = f(X)\n",
        "\n",
        "X = torch.tensor(X).float().unsqueeze(1)\n",
        "X.requires_grad = True\n",
        "y = torch.tensor(y).float().unsqueeze(1)"
      ],
      "metadata": {
        "id": "XEGrMMRb2pbk"
      },
      "execution_count": 179,
      "outputs": []
    },
    {
      "cell_type": "code",
      "source": [
        "crit1 = torch.nn.MSELoss()\n",
        "crit2 = CustomLoss()\n",
        "\n",
        "model = Model()\n",
        "optimizer = optim.SGD(model.parameters(), lr = .0001)"
      ],
      "metadata": {
        "id": "gC1eFRh82s77"
      },
      "execution_count": 180,
      "outputs": []
    },
    {
      "cell_type": "code",
      "source": [
        "grad_loss_list = []\n",
        "min_ratio_list = []\n",
        "\n",
        "for i in range(100):\n",
        "\n",
        "  if i==0:\n",
        "\n",
        "    optimizer.zero_grad()\n",
        "\n",
        "    y_pred = model(X)\n",
        "    mse_loss = crit1(y_pred, y)\n",
        "    mse_loss.backward()\n",
        "    optimizer.step()\n",
        "\n",
        "  else:\n",
        "\n",
        "    y_pred = model(X)\n",
        "    mse_loss = crit1(y_pred, y)\n",
        "    grad_tens = calcGradients(model, mse_loss)\n",
        "    grad_loss = crit2(grad_tens)\n",
        "\n",
        "\n",
        "    optimizer.zero_grad()\n",
        "\n",
        "    grad_loss.backward()\n",
        "\n",
        "    optimizer.step()\n",
        "\n",
        "    if i<10 or i>90:\n",
        "\n",
        "      min_ratio_list.append(minRatio(grad_tens))\n",
        "\n",
        "      grad_loss_list.append(grad_loss.item())\n",
        "\n",
        "\n"
      ],
      "metadata": {
        "id": "rUfZX6Y22trX",
        "collapsed": true
      },
      "execution_count": 181,
      "outputs": []
    },
    {
      "cell_type": "code",
      "source": [
        "plt.title(\"Loss vs min_ratio\")\n",
        "plt.xlabel(\"min_ratio\")\n",
        "plt.ylabel(\"Loss\")\n",
        "plt.scatter(min_ratio_list, grad_loss_list)"
      ],
      "metadata": {
        "id": "gPr8WxAH0sdD",
        "colab": {
          "base_uri": "https://localhost:8080/",
          "height": 489
        },
        "outputId": "59624cdf-975d-4cf6-ef45-434d1a520391"
      },
      "execution_count": 182,
      "outputs": [
        {
          "output_type": "execute_result",
          "data": {
            "text/plain": [
              "<matplotlib.collections.PathCollection at 0x7c252ad7a290>"
            ]
          },
          "metadata": {},
          "execution_count": 182
        },
        {
          "output_type": "display_data",
          "data": {
            "text/plain": [
              "<Figure size 640x480 with 1 Axes>"
            ],
            "image/png": "[encoded data removed]"
          },
          "metadata": {}
        }
      ]
    }
  ]
}